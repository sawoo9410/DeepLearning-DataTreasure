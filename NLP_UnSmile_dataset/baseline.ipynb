{
 "cells": [
  {
   "cell_type": "markdown",
   "id": "086e8600",
   "metadata": {},
   "source": [
    "작성자: https://github.com/sawoo9410 <br>\n",
    "최초 작성일자: 2023-06-05 <br>\n",
    "최종 작성일자: - <br>\n",
    "\n",
    "### Ref.\n",
    "- 데이터셋 출처: Smilegate AI(https://github.com/smilegate-ai/korean_unsmile_dataset)\n",
    "- baseline 참조: https://colab.research.google.com/drive/1NKYYVSex__vde-lnYCmsRmyHjJhV6cKt?usp=sharing\n",
    "\n",
    "----\n",
    "\n",
    "##### 해당 코드는 Smilegate AI 센터에서 공개한 한국어 혐오표현 \"UnSmile\" 데이터셋을 분석한 코드입니다.\n",
    "##### baseline 코드를 참조해서 코드 내용을 자세히 서술하거나, 다른 모델을 적용합니다.\n",
    "\n",
    "----"
   ]
  },
  {
   "cell_type": "markdown",
   "id": "35979442",
   "metadata": {},
   "source": [
    "### 0. 환경설정\n",
    "\n",
    "Huggingface Transformers와 Datasets 라이브러리를 사용합니다.\n",
    "\n",
    "- Library; datasets - https://github.com/huggingface/datasets)\n",
    "- Library; transformers - https://github.com/huggingface/transformers)"
   ]
  },
  {
   "cell_type": "code",
   "execution_count": null,
   "id": "113b34e7",
   "metadata": {},
   "outputs": [],
   "source": [
    "!pip install transformers\n",
    "\n",
    "# 현재 map 함수 에러로 hugging space에서 데이터를 불러오는 것이 아닌, 직접 다운 받아 불러올 예정\n",
    "# !pip install datasets=1.14.0\n",
    "\n",
    "# 필요한 경우 실행\n",
    "# !pip install pandas numpy scikit-learn"
   ]
  },
  {
   "cell_type": "code",
   "execution_count": 1,
   "id": "0893ff03",
   "metadata": {},
   "outputs": [],
   "source": [
    "# 경고(warning) 메시지를 숨깁니다. 필요한 경우 실행합니다.\n",
    "import warnings\n",
    "\n",
    "warnings.filterwarnings(\"ignore\")"
   ]
  },
  {
   "cell_type": "markdown",
   "id": "83dbb8a8",
   "metadata": {},
   "source": [
    "### 1. 데이터셋 불러오기\n",
    "\n",
    "Huggingface Datasets를 통해 데이터를 불러옵니다. -> map 함수 에러로 직접 데이터를 다운 받아 불러옴"
   ]
  },
  {
   "cell_type": "code",
   "execution_count": null,
   "id": "e56eea1e",
   "metadata": {},
   "outputs": [],
   "source": [
    "# from datasets import load_dataset\n",
    "# dataset = load_dataset('smilegate-ai/kor_unsmile')"
   ]
  },
  {
   "cell_type": "code",
   "execution_count": 2,
   "id": "75109feb",
   "metadata": {},
   "outputs": [
    {
     "data": {
      "text/plain": [
       "((15005, 12), (3737, 12))"
      ]
     },
     "execution_count": 2,
     "metadata": {},
     "output_type": "execute_result"
    }
   ],
   "source": [
    "import pandas as pd\n",
    "\n",
    "train_df = pd.read_csv(\"./korean_unsmile_dataset-main/unsmile_train_v1.0.tsv\", delimiter='\\t')\n",
    "valid_df = pd.read_csv(\"./korean_unsmile_dataset-main/unsmile_valid_v1.0.tsv\", delimiter='\\t')\n",
    "\n",
    "train_df.shape, valid_df.shape"
   ]
  },
  {
   "cell_type": "code",
   "execution_count": 3,
   "id": "21e9adb9",
   "metadata": {},
   "outputs": [
    {
     "data": {
      "text/html": [
       "<div>\n",
       "<style scoped>\n",
       "    .dataframe tbody tr th:only-of-type {\n",
       "        vertical-align: middle;\n",
       "    }\n",
       "\n",
       "    .dataframe tbody tr th {\n",
       "        vertical-align: top;\n",
       "    }\n",
       "\n",
       "    .dataframe thead th {\n",
       "        text-align: right;\n",
       "    }\n",
       "</style>\n",
       "<table border=\"1\" class=\"dataframe\">\n",
       "  <thead>\n",
       "    <tr style=\"text-align: right;\">\n",
       "      <th></th>\n",
       "      <th>문장</th>\n",
       "      <th>여성/가족</th>\n",
       "      <th>남성</th>\n",
       "      <th>성소수자</th>\n",
       "      <th>인종/국적</th>\n",
       "      <th>연령</th>\n",
       "      <th>지역</th>\n",
       "      <th>종교</th>\n",
       "      <th>기타 혐오</th>\n",
       "      <th>악플/욕설</th>\n",
       "      <th>clean</th>\n",
       "      <th>개인지칭</th>\n",
       "    </tr>\n",
       "  </thead>\n",
       "  <tbody>\n",
       "    <tr>\n",
       "      <th>0</th>\n",
       "      <td>일안하는 시간은 쉬고싶어서 그런게 아닐까</td>\n",
       "      <td>0</td>\n",
       "      <td>0</td>\n",
       "      <td>0</td>\n",
       "      <td>0</td>\n",
       "      <td>0</td>\n",
       "      <td>0</td>\n",
       "      <td>0</td>\n",
       "      <td>0</td>\n",
       "      <td>0</td>\n",
       "      <td>1</td>\n",
       "      <td>0</td>\n",
       "    </tr>\n",
       "    <tr>\n",
       "      <th>1</th>\n",
       "      <td>아동성범죄와 페도버는 기록바 끊어져 영원히 고통 받는다. 무슬림 50퍼 근친이다. ...</td>\n",
       "      <td>0</td>\n",
       "      <td>0</td>\n",
       "      <td>0</td>\n",
       "      <td>0</td>\n",
       "      <td>0</td>\n",
       "      <td>0</td>\n",
       "      <td>1</td>\n",
       "      <td>0</td>\n",
       "      <td>0</td>\n",
       "      <td>0</td>\n",
       "      <td>0</td>\n",
       "    </tr>\n",
       "    <tr>\n",
       "      <th>2</th>\n",
       "      <td>루나 솔로앨범 나왔을 때부터 머모 기운 있었음 ㅇㅇ Keep o  doin 진짜 띵...</td>\n",
       "      <td>0</td>\n",
       "      <td>0</td>\n",
       "      <td>0</td>\n",
       "      <td>0</td>\n",
       "      <td>0</td>\n",
       "      <td>0</td>\n",
       "      <td>0</td>\n",
       "      <td>0</td>\n",
       "      <td>0</td>\n",
       "      <td>1</td>\n",
       "      <td>0</td>\n",
       "    </tr>\n",
       "    <tr>\n",
       "      <th>3</th>\n",
       "      <td>홍팍에도 어버이연합인가 보내요 뭐 이런뎃글 있는데 이거 어버이연합측에 신고하면 그쪽...</td>\n",
       "      <td>0</td>\n",
       "      <td>0</td>\n",
       "      <td>0</td>\n",
       "      <td>0</td>\n",
       "      <td>0</td>\n",
       "      <td>0</td>\n",
       "      <td>0</td>\n",
       "      <td>0</td>\n",
       "      <td>0</td>\n",
       "      <td>1</td>\n",
       "      <td>0</td>\n",
       "    </tr>\n",
       "    <tr>\n",
       "      <th>4</th>\n",
       "      <td>아놔 왜 여기 댓들은 다 여자들이 김치녀라고 먼저 불렸다! 여자들은 더 심하게 그런...</td>\n",
       "      <td>1</td>\n",
       "      <td>0</td>\n",
       "      <td>0</td>\n",
       "      <td>0</td>\n",
       "      <td>0</td>\n",
       "      <td>0</td>\n",
       "      <td>0</td>\n",
       "      <td>0</td>\n",
       "      <td>0</td>\n",
       "      <td>0</td>\n",
       "      <td>0</td>\n",
       "    </tr>\n",
       "  </tbody>\n",
       "</table>\n",
       "</div>"
      ],
      "text/plain": [
       "                                                  문장  여성/가족  남성  성소수자  인종/국적  \\\n",
       "0                             일안하는 시간은 쉬고싶어서 그런게 아닐까      0   0     0      0   \n",
       "1  아동성범죄와 페도버는 기록바 끊어져 영원히 고통 받는다. 무슬림 50퍼 근친이다. ...      0   0     0      0   \n",
       "2  루나 솔로앨범 나왔을 때부터 머모 기운 있었음 ㅇㅇ Keep o  doin 진짜 띵...      0   0     0      0   \n",
       "3  홍팍에도 어버이연합인가 보내요 뭐 이런뎃글 있는데 이거 어버이연합측에 신고하면 그쪽...      0   0     0      0   \n",
       "4  아놔 왜 여기 댓들은 다 여자들이 김치녀라고 먼저 불렸다! 여자들은 더 심하게 그런...      1   0     0      0   \n",
       "\n",
       "   연령  지역  종교  기타 혐오  악플/욕설  clean  개인지칭  \n",
       "0   0   0   0      0      0      1     0  \n",
       "1   0   0   1      0      0      0     0  \n",
       "2   0   0   0      0      0      1     0  \n",
       "3   0   0   0      0      0      1     0  \n",
       "4   0   0   0      0      0      0     0  "
      ]
     },
     "execution_count": 3,
     "metadata": {},
     "output_type": "execute_result"
    }
   ],
   "source": [
    "train_df.head() "
   ]
  },
  {
   "cell_type": "code",
   "execution_count": 4,
   "id": "ee1a0be5",
   "metadata": {},
   "outputs": [
    {
     "data": {
      "text/html": [
       "<div>\n",
       "<style scoped>\n",
       "    .dataframe tbody tr th:only-of-type {\n",
       "        vertical-align: middle;\n",
       "    }\n",
       "\n",
       "    .dataframe tbody tr th {\n",
       "        vertical-align: top;\n",
       "    }\n",
       "\n",
       "    .dataframe thead th {\n",
       "        text-align: right;\n",
       "    }\n",
       "</style>\n",
       "<table border=\"1\" class=\"dataframe\">\n",
       "  <thead>\n",
       "    <tr style=\"text-align: right;\">\n",
       "      <th></th>\n",
       "      <th>문장</th>\n",
       "      <th>여성/가족</th>\n",
       "      <th>남성</th>\n",
       "      <th>성소수자</th>\n",
       "      <th>인종/국적</th>\n",
       "      <th>연령</th>\n",
       "      <th>지역</th>\n",
       "      <th>종교</th>\n",
       "      <th>기타 혐오</th>\n",
       "      <th>악플/욕설</th>\n",
       "      <th>clean</th>\n",
       "      <th>개인지칭</th>\n",
       "    </tr>\n",
       "  </thead>\n",
       "  <tbody>\n",
       "    <tr>\n",
       "      <th>0</th>\n",
       "      <td>ㅇㄱㄹㅇ 진짜 죽어도 상관없다는 마인드로 싸웠더니 지금 서열 상타취노 식칼들고 니가...</td>\n",
       "      <td>0</td>\n",
       "      <td>1</td>\n",
       "      <td>0</td>\n",
       "      <td>0</td>\n",
       "      <td>0</td>\n",
       "      <td>0</td>\n",
       "      <td>0</td>\n",
       "      <td>0</td>\n",
       "      <td>0</td>\n",
       "      <td>0</td>\n",
       "      <td>0</td>\n",
       "    </tr>\n",
       "    <tr>\n",
       "      <th>1</th>\n",
       "      <td>여자들은 취미가 애낳는건가.. 취미를 좀 가져라</td>\n",
       "      <td>1</td>\n",
       "      <td>0</td>\n",
       "      <td>0</td>\n",
       "      <td>0</td>\n",
       "      <td>0</td>\n",
       "      <td>0</td>\n",
       "      <td>0</td>\n",
       "      <td>0</td>\n",
       "      <td>0</td>\n",
       "      <td>0</td>\n",
       "      <td>0</td>\n",
       "    </tr>\n",
       "    <tr>\n",
       "      <th>2</th>\n",
       "      <td>개슬람녀 다 필요없고 니 엄마만 있으면 된다</td>\n",
       "      <td>0</td>\n",
       "      <td>0</td>\n",
       "      <td>0</td>\n",
       "      <td>1</td>\n",
       "      <td>0</td>\n",
       "      <td>0</td>\n",
       "      <td>1</td>\n",
       "      <td>0</td>\n",
       "      <td>0</td>\n",
       "      <td>0</td>\n",
       "      <td>0</td>\n",
       "    </tr>\n",
       "    <tr>\n",
       "      <th>3</th>\n",
       "      <td>조팔ㅋㅋ 남한 길거리 돌아다니면 한국남자때문에 눈재기하는데 그걸 내 폰에 굳이 담아...</td>\n",
       "      <td>0</td>\n",
       "      <td>1</td>\n",
       "      <td>0</td>\n",
       "      <td>0</td>\n",
       "      <td>0</td>\n",
       "      <td>0</td>\n",
       "      <td>0</td>\n",
       "      <td>0</td>\n",
       "      <td>0</td>\n",
       "      <td>0</td>\n",
       "      <td>0</td>\n",
       "    </tr>\n",
       "    <tr>\n",
       "      <th>4</th>\n",
       "      <td>바지 내리다 한남들 와꾸 보고 올려뿟노</td>\n",
       "      <td>0</td>\n",
       "      <td>1</td>\n",
       "      <td>0</td>\n",
       "      <td>0</td>\n",
       "      <td>0</td>\n",
       "      <td>0</td>\n",
       "      <td>0</td>\n",
       "      <td>0</td>\n",
       "      <td>0</td>\n",
       "      <td>0</td>\n",
       "      <td>0</td>\n",
       "    </tr>\n",
       "  </tbody>\n",
       "</table>\n",
       "</div>"
      ],
      "text/plain": [
       "                                                  문장  여성/가족  남성  성소수자  인종/국적  \\\n",
       "0  ㅇㄱㄹㅇ 진짜 죽어도 상관없다는 마인드로 싸웠더니 지금 서열 상타취노 식칼들고 니가...      0   1     0      0   \n",
       "1                         여자들은 취미가 애낳는건가.. 취미를 좀 가져라      1   0     0      0   \n",
       "2                           개슬람녀 다 필요없고 니 엄마만 있으면 된다      0   0     0      1   \n",
       "3  조팔ㅋㅋ 남한 길거리 돌아다니면 한국남자때문에 눈재기하는데 그걸 내 폰에 굳이 담아...      0   1     0      0   \n",
       "4                              바지 내리다 한남들 와꾸 보고 올려뿟노      0   1     0      0   \n",
       "\n",
       "   연령  지역  종교  기타 혐오  악플/욕설  clean  개인지칭  \n",
       "0   0   0   0      0      0      0     0  \n",
       "1   0   0   0      0      0      0     0  \n",
       "2   0   0   1      0      0      0     0  \n",
       "3   0   0   0      0      0      0     0  \n",
       "4   0   0   0      0      0      0     0  "
      ]
     },
     "execution_count": 4,
     "metadata": {},
     "output_type": "execute_result"
    }
   ],
   "source": [
    "valid_df.head() "
   ]
  },
  {
   "cell_type": "code",
   "execution_count": 5,
   "id": "59dcbcfa",
   "metadata": {},
   "outputs": [],
   "source": [
    "unsmile_labels = [\"여성/가족\",\"남성\",\"성소수자\",\"인종/국적\",\"연령\",\"지역\",\"종교\",\"기타 혐오\",\"악플/욕설\",\"clean\"]\n",
    "# 개인지칭의 경우, 추가 정보이므로 분류 대상에서 제외했습니다."
   ]
  },
  {
   "cell_type": "markdown",
   "id": "97aefe8e",
   "metadata": {},
   "source": [
    "##### class imbalance 확인\n",
    "\n",
    "train, valid 데이터 셋의 클래스 불균형을 확인<br>\n",
    "\n",
    "- 총 10개의 클래스, 각 클래스 별 비율이 0.1이 가장 이상적\n",
    "- '연령'과 '기타 혐오'가 가장 낮은 비율\n",
    "- 나머지 클래스는 0.1에 근사함"
   ]
  },
  {
   "cell_type": "code",
   "execution_count": 6,
   "id": "7fb8c83a",
   "metadata": {},
   "outputs": [
    {
     "name": "stdout",
     "output_type": "stream",
     "text": [
      "{'여성/가족': 1599, '남성': 1347, '성소수자': 1141, '인종/국적': 1728, '연령': 603, '지역': 1052, '종교': 1181, '기타 혐오': 569, '악플/욕설': 3143, 'clean': 3739} \n",
      " [0.1, 0.08, 0.07, 0.11, 0.04, 0.07, 0.07, 0.04, 0.2, 0.23]\n",
      "{'여성/가족': 394, '남성': 334, '성소수자': 280, '인종/국적': 426, '연령': 146, '지역': 260, '종교': 290, '기타 혐오': 134, '악플/욕설': 786, 'clean': 935} \n",
      " [0.1, 0.08, 0.07, 0.11, 0.04, 0.07, 0.07, 0.03, 0.2, 0.23]\n"
     ]
    }
   ],
   "source": [
    "dict_train_balance = {}\n",
    "dict_valid_balance = {}\n",
    "\n",
    "def class_balance(dict_, labels_name, class_n):\n",
    "    ratio = []\n",
    "    \n",
    "    for i in labels_name:\n",
    "        dict_[i] = class_n[i]\n",
    "        ratio.append(round(class_n[i]/class_n.sum(),2))\n",
    "    \n",
    "    return dict_, ratio\n",
    "\n",
    "dict_train_balance, train_ratio = class_balance(dict_train_balance, unsmile_labels, train_df.iloc[:, 1:11].sum())\n",
    "dict_valid_balance, valid_ratio = class_balance(dict_valid_balance, unsmile_labels, valid_df.iloc[:, 1:11].sum())\n",
    "print(dict_train_balance, '\\n', train_ratio)\n",
    "print(dict_valid_balance, '\\n', valid_ratio)"
   ]
  },
  {
   "cell_type": "markdown",
   "id": "3d6ef403",
   "metadata": {},
   "source": [
    "### 2. Model 불러오기\n",
    "\n",
    "학습을 위해 Pretrained language model (PLM) 을 활용해보겠습니다."
   ]
  },
  {
   "cell_type": "code",
   "execution_count": 7,
   "id": "e538dcc3",
   "metadata": {
    "scrolled": false
   },
   "outputs": [],
   "source": [
    "from transformers import BertForSequenceClassification, TrainingArguments, Trainer, AutoTokenizer\n",
    "import torch\n",
    "import numpy as np"
   ]
  },
  {
   "cell_type": "code",
   "execution_count": 8,
   "id": "2443b63f",
   "metadata": {},
   "outputs": [],
   "source": [
    "model_name = 'beomi/kcbert-base'"
   ]
  },
  {
   "cell_type": "code",
   "execution_count": 9,
   "id": "d3edb300",
   "metadata": {},
   "outputs": [],
   "source": [
    "tokenizer = AutoTokenizer.from_pretrained(model_name)"
   ]
  },
  {
   "cell_type": "code",
   "execution_count": 10,
   "id": "10dad1fd",
   "metadata": {},
   "outputs": [
    {
     "data": {
      "text/plain": [
       "'일안하는 시간은 쉬고싶어서 그런게 아닐까'"
      ]
     },
     "execution_count": 10,
     "metadata": {},
     "output_type": "execute_result"
    }
   ],
   "source": [
    "train_df[\"문장\"][0]"
   ]
  },
  {
   "cell_type": "markdown",
   "id": "8af31029",
   "metadata": {},
   "source": [
    "bert model에 학습 데이터 전달을 위해 tokenizing 작업을 수행합니다."
   ]
  },
  {
   "cell_type": "code",
   "execution_count": 11,
   "id": "cef3481d",
   "metadata": {},
   "outputs": [],
   "source": [
    "train_labels = torch.tensor(np.array(train_df.iloc[:, 1:11]), dtype=torch.float)\n",
    "valid_labels = torch.tensor(np.array(valid_df.iloc[:, 1:11]), dtype=torch.float)\n",
    "\n",
    "def mapping_dataset(data, labels):\n",
    "    dataset_list = []\n",
    "\n",
    "    sentences = data[\"문장\"].tolist()\n",
    "    tokenized_examples = tokenizer(sentences, padding=True, truncation=True, max_length=512)\n",
    "\n",
    "    for i in range(len(tokenized_examples[\"input_ids\"])):\n",
    "        example = {key: torch.tensor(value[i]) for key, value in tokenized_examples.items()}\n",
    "        example['labels'] = torch.tensor(labels[i], dtype=torch.float)\n",
    "        dataset_list.append(example)\n",
    "\n",
    "    return dataset_list"
   ]
  },
  {
   "cell_type": "code",
   "execution_count": 12,
   "id": "49afad58",
   "metadata": {},
   "outputs": [],
   "source": [
    "train_dataset = mapping_dataset(train_df, train_labels)\n",
    "valid_dataset = mapping_dataset(valid_df, valid_labels)"
   ]
  },
  {
   "cell_type": "code",
   "execution_count": 13,
   "id": "6f66e9dd",
   "metadata": {
    "scrolled": true
   },
   "outputs": [
    {
     "data": {
      "text/plain": [
       "{'input_ids': tensor([    2,  2458, 15751, 24930, 24351, 29278, 17038, 11631,     3,     0,\n",
       "             0,     0,     0,     0,     0,     0,     0,     0,     0,     0,\n",
       "             0,     0,     0,     0,     0,     0,     0,     0,     0,     0,\n",
       "             0,     0,     0,     0,     0,     0,     0,     0,     0,     0,\n",
       "             0,     0,     0,     0,     0,     0,     0,     0,     0,     0,\n",
       "             0,     0,     0,     0,     0,     0,     0,     0,     0,     0,\n",
       "             0,     0,     0,     0,     0,     0,     0,     0,     0,     0,\n",
       "             0,     0,     0,     0,     0,     0,     0,     0,     0,     0,\n",
       "             0,     0,     0,     0,     0,     0,     0,     0,     0,     0,\n",
       "             0,     0,     0,     0,     0,     0,     0,     0,     0,     0,\n",
       "             0,     0,     0,     0,     0,     0,     0,     0,     0,     0,\n",
       "             0,     0,     0,     0,     0]),\n",
       " 'token_type_ids': tensor([0, 0, 0, 0, 0, 0, 0, 0, 0, 0, 0, 0, 0, 0, 0, 0, 0, 0, 0, 0, 0, 0, 0, 0,\n",
       "         0, 0, 0, 0, 0, 0, 0, 0, 0, 0, 0, 0, 0, 0, 0, 0, 0, 0, 0, 0, 0, 0, 0, 0,\n",
       "         0, 0, 0, 0, 0, 0, 0, 0, 0, 0, 0, 0, 0, 0, 0, 0, 0, 0, 0, 0, 0, 0, 0, 0,\n",
       "         0, 0, 0, 0, 0, 0, 0, 0, 0, 0, 0, 0, 0, 0, 0, 0, 0, 0, 0, 0, 0, 0, 0, 0,\n",
       "         0, 0, 0, 0, 0, 0, 0, 0, 0, 0, 0, 0, 0, 0, 0, 0, 0, 0, 0]),\n",
       " 'attention_mask': tensor([1, 1, 1, 1, 1, 1, 1, 1, 1, 0, 0, 0, 0, 0, 0, 0, 0, 0, 0, 0, 0, 0, 0, 0,\n",
       "         0, 0, 0, 0, 0, 0, 0, 0, 0, 0, 0, 0, 0, 0, 0, 0, 0, 0, 0, 0, 0, 0, 0, 0,\n",
       "         0, 0, 0, 0, 0, 0, 0, 0, 0, 0, 0, 0, 0, 0, 0, 0, 0, 0, 0, 0, 0, 0, 0, 0,\n",
       "         0, 0, 0, 0, 0, 0, 0, 0, 0, 0, 0, 0, 0, 0, 0, 0, 0, 0, 0, 0, 0, 0, 0, 0,\n",
       "         0, 0, 0, 0, 0, 0, 0, 0, 0, 0, 0, 0, 0, 0, 0, 0, 0, 0, 0]),\n",
       " 'labels': tensor([0., 0., 0., 0., 0., 0., 0., 0., 0., 1.])}"
      ]
     },
     "execution_count": 13,
     "metadata": {},
     "output_type": "execute_result"
    }
   ],
   "source": [
    "train_dataset[0]"
   ]
  },
  {
   "cell_type": "code",
   "execution_count": null,
   "id": "be13ec0a",
   "metadata": {},
   "outputs": [],
   "source": [
    "# 사용허지 않음\n",
    "\n",
    "# def preprocess_function(examples):\n",
    "#     tokenized_examples = tokenizer(str(examples[\"문장\"]))\n",
    "#     tokenized_examples['labels'] = torch.tensor(examples[\"labels\"], dtype=torch.float)\n",
    "#     # multi label classification 학습을 위해선 label이 float 형태로 변형되어야 합니다.\n",
    "#     # huggingface datasets 최신 버전에는 'map' 함수에 버그가 있어서 변형이 올바르게 되지 않습니다.\n",
    "    \n",
    "#     return tokenized_examples\n",
    "\n",
    "# tokenized_dataset = dataset.map(preprocess_function)\n",
    "# tokenized_dataset.set_format(type='torch', columns=['input_ids', 'labels', 'attention_mask', 'token_type_ids'])"
   ]
  },
  {
   "cell_type": "code",
   "execution_count": 14,
   "id": "a28b0554",
   "metadata": {},
   "outputs": [],
   "source": [
    "from transformers import DataCollatorWithPadding\n",
    "data_collator = DataCollatorWithPadding(tokenizer=tokenizer)"
   ]
  },
  {
   "cell_type": "code",
   "execution_count": 15,
   "id": "2de9227e",
   "metadata": {},
   "outputs": [
    {
     "name": "stderr",
     "output_type": "stream",
     "text": [
      "Some weights of the model checkpoint at beomi/kcbert-base were not used when initializing BertForSequenceClassification: ['cls.predictions.transform.dense.bias', 'cls.predictions.transform.LayerNorm.weight', 'cls.predictions.transform.dense.weight', 'cls.predictions.bias', 'cls.predictions.transform.LayerNorm.bias', 'cls.seq_relationship.weight', 'cls.seq_relationship.bias']\n",
      "- This IS expected if you are initializing BertForSequenceClassification from the checkpoint of a model trained on another task or with another architecture (e.g. initializing a BertForSequenceClassification model from a BertForPreTraining model).\n",
      "- This IS NOT expected if you are initializing BertForSequenceClassification from the checkpoint of a model that you expect to be exactly identical (initializing a BertForSequenceClassification model from a BertForSequenceClassification model).\n",
      "Some weights of BertForSequenceClassification were not initialized from the model checkpoint at beomi/kcbert-base and are newly initialized: ['classifier.weight', 'classifier.bias']\n",
      "You should probably TRAIN this model on a down-stream task to be able to use it for predictions and inference.\n"
     ]
    }
   ],
   "source": [
    "num_labels=len(unsmile_labels) # Label 갯수\n",
    "\n",
    "model = BertForSequenceClassification.from_pretrained(\n",
    "    model_name, \n",
    "    num_labels=num_labels, \n",
    "    problem_type=\"multi_label_classification\"\n",
    ")\n",
    "model.config.id2label = {i: label for i, label in zip(range(num_labels), unsmile_labels)}\n",
    "model.config.label2id = {label: i for i, label in zip(range(num_labels), unsmile_labels)}"
   ]
  },
  {
   "cell_type": "code",
   "execution_count": 16,
   "id": "0c568907",
   "metadata": {},
   "outputs": [
    {
     "data": {
      "text/plain": [
       "{'여성/가족': 0,\n",
       " '남성': 1,\n",
       " '성소수자': 2,\n",
       " '인종/국적': 3,\n",
       " '연령': 4,\n",
       " '지역': 5,\n",
       " '종교': 6,\n",
       " '기타 혐오': 7,\n",
       " '악플/욕설': 8,\n",
       " 'clean': 9}"
      ]
     },
     "execution_count": 16,
     "metadata": {},
     "output_type": "execute_result"
    }
   ],
   "source": [
    "model.config.label2id"
   ]
  },
  {
   "cell_type": "markdown",
   "id": "2f14156f",
   "metadata": {},
   "source": [
    "### 3. Model 학습"
   ]
  },
  {
   "cell_type": "code",
   "execution_count": 17,
   "id": "426f0da9",
   "metadata": {},
   "outputs": [],
   "source": [
    "from sklearn.metrics import label_ranking_average_precision_score"
   ]
  },
  {
   "cell_type": "code",
   "execution_count": 18,
   "id": "7340fb91",
   "metadata": {},
   "outputs": [],
   "source": [
    "def compute_metrics(x):\n",
    "    return {\n",
    "        'lrap': label_ranking_average_precision_score(x.label_ids, x.predictions),\n",
    "    }"
   ]
  },
  {
   "cell_type": "code",
   "execution_count": 19,
   "id": "ba4f727c",
   "metadata": {},
   "outputs": [],
   "source": [
    "batch_size = 64 # 64 batch는 colab pro에서 테스트되었습니다."
   ]
  },
  {
   "cell_type": "code",
   "execution_count": 20,
   "id": "ead371ca",
   "metadata": {
    "scrolled": false
   },
   "outputs": [],
   "source": [
    "args = TrainingArguments(\n",
    "    output_dir=\"model_output\",\n",
    "    evaluation_strategy=\"epoch\",\n",
    "    learning_rate=2e-5,\n",
    "    per_device_train_batch_size=batch_size,\n",
    "    per_device_eval_batch_size=batch_size,\n",
    "    num_train_epochs=5,\n",
    "    save_strategy='epoch',\n",
    "    load_best_model_at_end=True,\n",
    "    metric_for_best_model='lrap',\n",
    "    greater_is_better=True,\n",
    ")\n",
    "\n",
    "trainer = Trainer(\n",
    "    model=model, \n",
    "    args=args, \n",
    "    train_dataset=train_dataset,#tokenized_dataset[\"train\"], \n",
    "    eval_dataset=valid_dataset,#tokenized_dataset[\"valid\"], \n",
    "    compute_metrics=compute_metrics,\n",
    "    tokenizer=tokenizer,\n",
    "    data_collator=data_collator\n",
    ")"
   ]
  },
  {
   "cell_type": "markdown",
   "id": "03dd1200",
   "metadata": {},
   "source": [
    "NameError: name 'PartialState' is not defined 발생 시 <br>\n",
    "\n",
    "!pip install --upgrade transformers 실행"
   ]
  },
  {
   "cell_type": "code",
   "execution_count": 21,
   "id": "e99bb893",
   "metadata": {},
   "outputs": [
    {
     "name": "stderr",
     "output_type": "stream",
     "text": [
      "You're using a BertTokenizerFast tokenizer. Please note that with a fast tokenizer, using the `__call__` method is faster than using a method to encode the text followed by a call to the `pad` method to get a padded encoding.\n"
     ]
    },
    {
     "data": {
      "text/html": [
       "\n",
       "    <div>\n",
       "      \n",
       "      <progress value='1175' max='1175' style='width:300px; height:20px; vertical-align: middle;'></progress>\n",
       "      [1175/1175 16:14, Epoch 5/5]\n",
       "    </div>\n",
       "    <table border=\"1\" class=\"dataframe\">\n",
       "  <thead>\n",
       " <tr style=\"text-align: left;\">\n",
       "      <th>Epoch</th>\n",
       "      <th>Training Loss</th>\n",
       "      <th>Validation Loss</th>\n",
       "      <th>Lrap</th>\n",
       "    </tr>\n",
       "  </thead>\n",
       "  <tbody>\n",
       "    <tr>\n",
       "      <td>1</td>\n",
       "      <td>No log</td>\n",
       "      <td>0.146198</td>\n",
       "      <td>0.864528</td>\n",
       "    </tr>\n",
       "    <tr>\n",
       "      <td>2</td>\n",
       "      <td>No log</td>\n",
       "      <td>0.127685</td>\n",
       "      <td>0.877392</td>\n",
       "    </tr>\n",
       "    <tr>\n",
       "      <td>3</td>\n",
       "      <td>0.170200</td>\n",
       "      <td>0.126429</td>\n",
       "      <td>0.880563</td>\n",
       "    </tr>\n",
       "    <tr>\n",
       "      <td>4</td>\n",
       "      <td>0.170200</td>\n",
       "      <td>0.127442</td>\n",
       "      <td>0.879294</td>\n",
       "    </tr>\n",
       "    <tr>\n",
       "      <td>5</td>\n",
       "      <td>0.078400</td>\n",
       "      <td>0.131736</td>\n",
       "      <td>0.876684</td>\n",
       "    </tr>\n",
       "  </tbody>\n",
       "</table><p>"
      ],
      "text/plain": [
       "<IPython.core.display.HTML object>"
      ]
     },
     "metadata": {},
     "output_type": "display_data"
    },
    {
     "data": {
      "text/plain": [
       "TrainOutput(global_step=1175, training_loss=0.11441140032829122, metrics={'train_runtime': 976.0779, 'train_samples_per_second': 76.864, 'train_steps_per_second': 1.204, 'total_flos': 4434086629864500.0, 'train_loss': 0.11441140032829122, 'epoch': 5.0})"
      ]
     },
     "execution_count": 21,
     "metadata": {},
     "output_type": "execute_result"
    }
   ],
   "source": [
    "trainer.train()"
   ]
  },
  {
   "cell_type": "code",
   "execution_count": 22,
   "id": "08cf7d1d",
   "metadata": {},
   "outputs": [],
   "source": [
    "trainer.save_model()"
   ]
  },
  {
   "cell_type": "markdown",
   "id": "dd45a7d6",
   "metadata": {},
   "source": [
    "### 4. Model 테스트"
   ]
  },
  {
   "cell_type": "code",
   "execution_count": 23,
   "id": "6db127c7",
   "metadata": {},
   "outputs": [
    {
     "name": "stderr",
     "output_type": "stream",
     "text": [
      "Xformers is not installed correctly. If you want to use memory_efficient_attention to accelerate training use the following command to install Xformers\n",
      "pip install xformers.\n"
     ]
    }
   ],
   "source": [
    "# 직접 학습한 경우 해딩 코드 실행\n",
    "\n",
    "from transformers import TextClassificationPipeline\n",
    "\n",
    "pipe = TextClassificationPipeline(\n",
    "    model = model,\n",
    "    tokenizer = tokenizer,\n",
    "    device=0,\n",
    "    return_all_scores=True,\n",
    "    function_to_apply='sigmoid'\n",
    "    )"
   ]
  },
  {
   "cell_type": "code",
   "execution_count": 24,
   "id": "cc8246ff",
   "metadata": {},
   "outputs": [],
   "source": [
    "# 기 학습한 경우 해당 코드 실행\n",
    "\n",
    "# from transformers import TextClassificationPipeline, BertForSequenceClassification, AutoTokenizer\n",
    "\n",
    "# model_name = 'smilegate-ai/kor_unsmile'\n",
    "\n",
    "# model = BertForSequenceClassification.from_pretrained(model_name)\n",
    "# tokenizer = AutoTokenizer.from_pretrained(model_name)\n",
    "\n",
    "# pipe = TextClassificationPipeline(\n",
    "#     model=model,\n",
    "#     tokenizer=tokenizer,\n",
    "#     device=0,     # cpu: -1, gpu: gpu number\n",
    "#     return_all_scores=True,\n",
    "#     function_to_apply='sigmoid'\n",
    "#     )"
   ]
  },
  {
   "cell_type": "code",
   "execution_count": 24,
   "id": "cec21ef6",
   "metadata": {},
   "outputs": [
    {
     "name": "stdout",
     "output_type": "stream",
     "text": [
      "{'label': '여성/가족', 'score': 0.8971218466758728}\n",
      "{'label': '남성', 'score': 0.05398048460483551}\n",
      "{'label': '성소수자', 'score': 0.011421903036534786}\n",
      "{'label': '인종/국적', 'score': 0.015906384214758873}\n",
      "{'label': '연령', 'score': 0.013249202631413937}\n",
      "{'label': '지역', 'score': 0.013699996285140514}\n",
      "{'label': '종교', 'score': 0.012208408676087856}\n",
      "{'label': '기타 혐오', 'score': 0.01447195466607809}\n",
      "{'label': '악플/욕설', 'score': 0.030139032751321793}\n",
      "{'label': 'clean', 'score': 0.042166002094745636}\n"
     ]
    }
   ],
   "source": [
    "for result in pipe(\"이래서 여자는 게임을 하면 안된다\")[0]:\n",
    "    print(result)"
   ]
  },
  {
   "cell_type": "markdown",
   "id": "753dac75",
   "metadata": {},
   "source": [
    "### 5, Model 평가"
   ]
  },
  {
   "cell_type": "code",
   "execution_count": 25,
   "id": "fde6944d",
   "metadata": {},
   "outputs": [],
   "source": [
    "def get_predicated_label(output_labels, min_score):\n",
    "    labels = []\n",
    "    for label in output_labels:\n",
    "        if label['score'] > min_score:\n",
    "            labels.append(1)\n",
    "        else:\n",
    "            labels.append(0)\n",
    "    return labels"
   ]
  },
  {
   "cell_type": "code",
   "execution_count": 26,
   "id": "9d2d97af",
   "metadata": {},
   "outputs": [
    {
     "data": {
      "text/plain": [
       "array([[0., 1., 0., ..., 0., 0., 0.],\n",
       "       [1., 0., 0., ..., 0., 0., 0.],\n",
       "       [0., 0., 0., ..., 0., 0., 0.],\n",
       "       ...,\n",
       "       [0., 0., 0., ..., 0., 0., 0.],\n",
       "       [1., 0., 0., ..., 0., 0., 0.],\n",
       "       [0., 1., 0., ..., 0., 0., 0.]], dtype=float32)"
      ]
     },
     "execution_count": 26,
     "metadata": {},
     "output_type": "execute_result"
    }
   ],
   "source": [
    "valid_labels.numpy()"
   ]
  },
  {
   "cell_type": "code",
   "execution_count": 27,
   "id": "be4c32d2",
   "metadata": {},
   "outputs": [],
   "source": [
    "import tqdm\n",
    "from transformers.pipelines.base import KeyDataset\n",
    "\n",
    "predicated_labels = []\n",
    "\n",
    "for i in range(len(valid_df)):\n",
    "    for out in pipe(valid_df['문장'][i]):\n",
    "        predicated_labels.append(get_predicated_label(out, 0.5))"
   ]
  },
  {
   "cell_type": "code",
   "execution_count": 28,
   "id": "55af08f2",
   "metadata": {},
   "outputs": [
    {
     "data": {
      "text/plain": [
       "[[0, 1, 0, 0, 0, 0, 0, 0, 0, 0],\n",
       " [1, 0, 0, 0, 0, 0, 0, 0, 0, 0],\n",
       " [1, 0, 0, 0, 0, 0, 1, 0, 0, 0],\n",
       " [0, 1, 0, 0, 0, 0, 0, 0, 0, 0],\n",
       " [0, 1, 0, 0, 0, 0, 0, 0, 0, 0],\n",
       " [0, 0, 0, 0, 0, 0, 0, 0, 1, 0],\n",
       " [0, 0, 0, 0, 0, 0, 1, 0, 0, 0],\n",
       " [0, 1, 0, 0, 0, 0, 0, 0, 0, 0],\n",
       " [0, 0, 0, 1, 1, 0, 0, 0, 0, 0],\n",
       " [0, 0, 0, 0, 0, 0, 0, 0, 1, 0]]"
      ]
     },
     "execution_count": 28,
     "metadata": {},
     "output_type": "execute_result"
    }
   ],
   "source": [
    "predicated_labels[:10]"
   ]
  },
  {
   "cell_type": "code",
   "execution_count": 29,
   "id": "87057003",
   "metadata": {},
   "outputs": [
    {
     "name": "stdout",
     "output_type": "stream",
     "text": [
      "              precision    recall  f1-score   support\n",
      "\n",
      "           0       0.79      0.81      0.80       394\n",
      "           1       0.86      0.85      0.86       334\n",
      "           2       0.86      0.84      0.85       280\n",
      "           3       0.87      0.79      0.83       426\n",
      "           4       0.85      0.87      0.86       146\n",
      "           5       0.87      0.90      0.89       260\n",
      "           6       0.85      0.91      0.88       290\n",
      "           7       0.68      0.33      0.44       134\n",
      "           8       0.73      0.65      0.68       786\n",
      "           9       0.78      0.72      0.75       935\n",
      "\n",
      "   micro avg       0.81      0.76      0.78      3985\n",
      "   macro avg       0.81      0.77      0.78      3985\n",
      "weighted avg       0.80      0.76      0.78      3985\n",
      " samples avg       0.77      0.77      0.76      3985\n",
      "\n",
      "정확도: 0.7267861921327268\n"
     ]
    }
   ],
   "source": [
    "from sklearn.metrics import classification_report, accuracy_score\n",
    "\n",
    "print(classification_report(valid_labels.numpy(), predicated_labels))\n",
    "print(\"정확도:\", accuracy_score(valid_labels.numpy(), predicated_labels))"
   ]
  },
  {
   "cell_type": "markdown",
   "id": "ee75dd23",
   "metadata": {},
   "source": [
    "{'여성/가족': 0,\n",
    " '남성': 1,\n",
    " '성소수자': 2,\n",
    " '인종/국적': 3,\n",
    " '연령': 4,\n",
    " '지역': 5,\n",
    " '종교': 6,\n",
    " '기타 혐오': 7,\n",
    " '악플/욕설': 8,\n",
    " 'clean': 9}"
   ]
  },
  {
   "cell_type": "markdown",
   "id": "3769fcee",
   "metadata": {},
   "source": [
    "#### 결과 해석\n",
    "\n",
    "- 가장 클래스의 비율이 적었던 \"연령\"과 \"기타 혐오\"를 확인했을 때, f1-score 기준 \"연령\"의 경우 좋은 결과를 보였으나, \"기타 혐오\"의 경우 모든 클래스 중 가장 낮은 결과를 보임\n",
    "- \"악플/욕설\"의 경우 \"clean\"을 제외하고 가장 많은 개수를 가진 클래스지만, f1-score 기준 \"기타 혐오\" 다음으로 낮은 결과를 보임\n",
    "- 정확도는 약 0.73로 아쉬운 결과.\n"
   ]
  }
 ],
 "metadata": {
  "kernelspec": {
   "display_name": "Python 3 (ipykernel)",
   "language": "python",
   "name": "python3"
  },
  "language_info": {
   "codemirror_mode": {
    "name": "ipython",
    "version": 3
   },
   "file_extension": ".py",
   "mimetype": "text/x-python",
   "name": "python",
   "nbconvert_exporter": "python",
   "pygments_lexer": "ipython3",
   "version": "3.8.16"
  }
 },
 "nbformat": 4,
 "nbformat_minor": 5
}
